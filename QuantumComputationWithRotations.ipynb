{
 "cells": [
  {
   "cell_type": "markdown",
   "metadata": {},
   "source": [
    "# Quantum Computation with Rotations!\n",
    "\n",
    "\"Stellar Representation of Grassmannians\" arXiv:1909.02592v1\n",
    "\n",
    "\"Toponomic Quantum Computation\" arXiv:2202.01973v1"
   ]
  },
  {
   "cell_type": "code",
   "execution_count": 1,
   "metadata": {},
   "outputs": [],
   "source": [
    "import vpython as vp\n",
    "import numpy as np\n",
    "import scipy as sc\n",
    "from scipy.special import binom\n",
    "from scipy.stats import unitary_group\n",
    "from itertools import combinations, permutations\n",
    "from functools import reduce \n",
    "from qutip.utilities import clebsch\n",
    "\n",
    "np.set_printoptions(precision=4, suppress=True)"
   ]
  },
  {
   "cell_type": "markdown",
   "metadata": {},
   "source": [
    "## Spin Operators"
   ]
  },
  {
   "cell_type": "code",
   "execution_count": 2,
   "metadata": {},
   "outputs": [],
   "source": [
    "def basis(d, i):\n",
    "    v = np.zeros(d)\n",
    "    v[i] = 1\n",
    "    return v\n",
    "\n",
    "def rand_ket(j):\n",
    "    d = int(2*j + 1)\n",
    "    v = np.random.randn(d) + 1j*np.random.randn(d) \n",
    "    return v/np.linalg.norm(v)\n",
    "\n",
    "def spin_basis(j, m):\n",
    "    v = np.zeros(int(2*j+1))\n",
    "    v[int(j-m)] = 1\n",
    "    return v\n",
    "\n",
    "def sigma_plus(j):\n",
    "    return np.array([[np.sqrt(j*(j+1) - m*n) \\\n",
    "                          if m == n+1 else 0 \\\n",
    "                              for n in np.arange(j, -j-1, -1)]\\\n",
    "                                 for m in np.arange(j, -j-1, -1)])\n",
    "\n",
    "def sigma_minus(j):\n",
    "    return sigma_plus(j).conj().T\n",
    "\n",
    "def sigma_z(j):\n",
    "    return np.diag(np.array([m for m in np.arange(j, -j-1, -1)]))\n",
    "\n",
    "def sigma_y(j):\n",
    "    return (sigma_plus(j) - sigma_minus(j))/(2j)\n",
    "\n",
    "def sigma_x(j):\n",
    "    return (sigma_plus(j) + sigma_minus(j))/2"
   ]
  },
  {
   "cell_type": "markdown",
   "metadata": {},
   "source": [
    "## Majorana Polynomial"
   ]
  },
  {
   "cell_type": "code",
   "execution_count": 3,
   "metadata": {},
   "outputs": [],
   "source": [
    "def majorana_polynomial(ket):\n",
    "    j = (len(ket)-1)/2\n",
    "    return np.polynomial.Polynomial(\\\n",
    "                    [(-1)**(j-m)*\\\n",
    "                     np.sqrt(binom(2*j, j-m))*\\\n",
    "                     spin_basis(j, m).conj() @ ket\\\n",
    "                         for m in np.arange(-j, j+1)])\n",
    "\n",
    "def projective_roots(n, poly):\n",
    "    r = poly.roots()\n",
    "    return np.concatenate([r, np.repeat(np.inf, n-len(r))])\n",
    "\n",
    "def majorana_roots(ket):\n",
    "    return projective_roots(len(ket)-1, majorana_polynomial(ket))\n",
    "\n",
    "def plane_to_sphere(z):\n",
    "    if z == np.inf:\n",
    "        return np.array([0,0,-1])\n",
    "    else:\n",
    "        return np.array([2*z.real, 2*z.imag, 1-z.real**2 - z.imag**2])/\\\n",
    "                    (1+z.real**2+z.imag**2)\n",
    "    \n",
    "def projective_stars(n, poly):\n",
    "    return np.array([plane_to_sphere(r) for r in projective_roots(n, poly)])\n",
    "\n",
    "def majorana_stars(ket):\n",
    "    return projective_stars(len(ket)-1, majorana_polynomial(ket))"
   ]
  },
  {
   "cell_type": "code",
   "execution_count": 4,
   "metadata": {},
   "outputs": [],
   "source": [
    "def viz_projective_stars(n, poly):\n",
    "    scene = vp.canvas(background=vp.color.white)\n",
    "    vp.sphere(color=vp.color.blue, opacity=0.2)\n",
    "    [vp.sphere(radius=0.1, pos=vp.vector(*star)) for star in projective_stars(n, poly)]\n",
    "    \n",
    "def viz_majorana_stars(ket):\n",
    "    viz_projective_stars(len(ket)-1, majorana_polynomial(ket))"
   ]
  },
  {
   "cell_type": "markdown",
   "metadata": {},
   "source": [
    "### Example 1. A spin-2 constellation"
   ]
  },
  {
   "cell_type": "code",
   "execution_count": 5,
   "metadata": {},
   "outputs": [
    {
     "data": {
      "text/plain": [
       "array([0.5774, 0.    , 0.    , 0.8165, 0.    ])"
      ]
     },
     "execution_count": 5,
     "metadata": {},
     "output_type": "execute_result"
    }
   ],
   "source": [
    "psi_tetra = np.array([1,0,0,np.sqrt(2),0])/np.sqrt(3); psi_tetra"
   ]
  },
  {
   "cell_type": "code",
   "execution_count": 6,
   "metadata": {},
   "outputs": [
    {
     "data": {
      "text/latex": [
       "$x \\mapsto \\color{LightGray}{\\text{0.0}} - \\text{1.6329931618554523}\\,x\\color{LightGray}{ + \\text{0.0}\\,x^{2}}\\color{LightGray}{ + \\text{0.0}\\,x^{3}} + \\text{0.5773502691896258}\\,x^{4}$"
      ],
      "text/plain": [
       "Polynomial([ 0.    , -1.633 ,  0.    ,  0.    ,  0.5774], domain=[-1,  1], window=[-1,  1])"
      ]
     },
     "execution_count": 6,
     "metadata": {},
     "output_type": "execute_result"
    }
   ],
   "source": [
    "majorana_polynomial(psi_tetra)"
   ]
  },
  {
   "cell_type": "code",
   "execution_count": 7,
   "metadata": {},
   "outputs": [
    {
     "data": {
      "text/plain": [
       "array([-0.7071-1.2247j, -0.7071+1.2247j,  0.    +0.j    ,  1.4142+0.j    ])"
      ]
     },
     "execution_count": 7,
     "metadata": {},
     "output_type": "execute_result"
    }
   ],
   "source": [
    "majorana_roots(psi_tetra)"
   ]
  },
  {
   "cell_type": "code",
   "execution_count": 8,
   "metadata": {},
   "outputs": [
    {
     "data": {
      "text/plain": [
       "array([[-0.4714, -0.8165, -0.3333],\n",
       "       [-0.4714,  0.8165, -0.3333],\n",
       "       [ 0.    ,  0.    ,  1.    ],\n",
       "       [ 0.9428,  0.    , -0.3333]])"
      ]
     },
     "execution_count": 8,
     "metadata": {},
     "output_type": "execute_result"
    }
   ],
   "source": [
    "majorana_stars(psi_tetra)"
   ]
  },
  {
   "cell_type": "code",
   "execution_count": 50,
   "metadata": {},
   "outputs": [
    {
     "data": {
      "text/html": [
       "<div id=\"glowscript\" class=\"glowscript\"></div>"
      ],
      "text/plain": [
       "<IPython.core.display.HTML object>"
      ]
     },
     "metadata": {},
     "output_type": "display_data"
    },
    {
     "data": {
      "application/javascript": "if (typeof Jupyter !== \"undefined\") { window.__context = { glowscript_container: $(\"#glowscript\").removeAttr(\"id\")};}else{ element.textContent = ' ';}",
      "text/plain": [
       "<IPython.core.display.Javascript object>"
      ]
     },
     "metadata": {},
     "output_type": "display_data"
    }
   ],
   "source": [
    "viz_majorana_stars(psi_tetra)"
   ]
  },
  {
   "cell_type": "markdown",
   "metadata": {},
   "source": [
    "## Some tools for Grassmannians"
   ]
  },
  {
   "cell_type": "code",
   "execution_count": 10,
   "metadata": {},
   "outputs": [],
   "source": [
    "def random_grassmannian(k, n):\n",
    "    return unitary_group.rvs(n)[:k]\n",
    "\n",
    "def standard_grassmannian_form(G):\n",
    "    return np.linalg.inv(G[:,:2]) @ G\n",
    "\n",
    "def plucker_coordinate(I, G):\n",
    "    return np.linalg.det(G[:, I])\n",
    "\n",
    "def plucker_indices(k, n):\n",
    "    return list(combinations(list(range(n)), k))\n",
    "\n",
    "def plucker_coordinates(G):\n",
    "    return np.array([plucker_coordinate(i, G) for i in plucker_indices(*G.shape)])"
   ]
  },
  {
   "cell_type": "code",
   "execution_count": 11,
   "metadata": {},
   "outputs": [],
   "source": [
    "def __antisymmetrize__(a, b):\n",
    "    return np.kron(a, b) - np.kron(b, a)\n",
    "\n",
    "def antisymmetrize(*V):\n",
    "    return reduce(__antisymmetrize__, V)"
   ]
  },
  {
   "cell_type": "code",
   "execution_count": 12,
   "metadata": {},
   "outputs": [],
   "source": [
    "def plucker_basis(k, n):\n",
    "    return np.array([antisymmetrize(*[basis(n, i) for i in I]) for I in plucker_indices(k, n)])\n",
    "\n",
    "def plucker_inner_product(v, w):\n",
    "    return np.linalg.det(v.conj() @ w.T)\n",
    "\n",
    "def kplane_inner_product(v, w):\n",
    "    return abs(plucker_inner_product(v,w))/\\\n",
    "                (np.sqrt(plucker_inner_product(v,v))*\\\n",
    "                 np.sqrt(plucker_inner_product(w,w)))"
   ]
  },
  {
   "cell_type": "code",
   "execution_count": 13,
   "metadata": {},
   "outputs": [
    {
     "name": "stdout",
     "output_type": "stream",
     "text": [
      "[[-0.2713-0.0881j  0.0947-0.2594j  0.7701+0.4688j  0.1638-0.0511j]\n",
      " [-0.3165+0.4036j -0.2218+0.5055j -0.0917+0.2475j  0.1635-0.5795j]]\n"
     ]
    }
   ],
   "source": [
    "G = random_grassmannian(2, 4)\n",
    "print(G)"
   ]
  },
  {
   "cell_type": "code",
   "execution_count": 14,
   "metadata": {},
   "outputs": [
    {
     "name": "stdout",
     "output_type": "stream",
     "text": [
      "[[ 1.+0.j -0.-0.j]\n",
      " [-0.+0.j  1.+0.j]]\n"
     ]
    }
   ],
   "source": [
    "print(G @ G.conj().T)"
   ]
  },
  {
   "cell_type": "code",
   "execution_count": 15,
   "metadata": {},
   "outputs": [
    {
     "name": "stdout",
     "output_type": "stream",
     "text": [
      "[[ 1.    +0.j     -0.    +0.j     -1.2268-1.7925j -0.7272+0.6143j]\n",
      " [ 0.    -0.j      1.    +0.j      1.1668+1.8688j -0.284 -0.2341j]]\n"
     ]
    }
   ],
   "source": [
    "print(standard_grassmannian_form(G))"
   ]
  },
  {
   "cell_type": "code",
   "execution_count": 16,
   "metadata": {},
   "outputs": [
    {
     "name": "stdout",
     "output_type": "stream",
     "text": [
      "[ 0.03  -0.2379j  0.4796-0.2215j -0.0642+0.0605j  0.4633-0.2381j\n",
      " -0.1243-0.1915j  0.4   -0.4149j]\n"
     ]
    }
   ],
   "source": [
    "c = plucker_coordinates(G);\n",
    "print(c)"
   ]
  },
  {
   "cell_type": "code",
   "execution_count": 17,
   "metadata": {},
   "outputs": [
    {
     "name": "stdout",
     "output_type": "stream",
     "text": [
      "[[ 0.  1.  0.  0. -1.  0.  0.  0.  0.  0.  0.  0.  0.  0.  0.  0.]\n",
      " [ 0.  0.  1.  0.  0.  0.  0.  0. -1.  0.  0.  0.  0.  0.  0.  0.]\n",
      " [ 0.  0.  0.  1.  0.  0.  0.  0.  0.  0.  0.  0. -1.  0.  0.  0.]\n",
      " [ 0.  0.  0.  0.  0.  0.  1.  0.  0. -1.  0.  0.  0.  0.  0.  0.]\n",
      " [ 0.  0.  0.  0.  0.  0.  0.  1.  0.  0.  0.  0.  0. -1.  0.  0.]\n",
      " [ 0.  0.  0.  0.  0.  0.  0.  0.  0.  0.  0.  1.  0.  0. -1.  0.]]\n"
     ]
    }
   ],
   "source": [
    "b = plucker_basis(2,4)\n",
    "print(b)"
   ]
  },
  {
   "cell_type": "code",
   "execution_count": 18,
   "metadata": {},
   "outputs": [
    {
     "name": "stdout",
     "output_type": "stream",
     "text": [
      "[ 0.    +0.j      0.03  -0.2379j  0.4796-0.2215j -0.0642+0.0605j\n",
      " -0.03  +0.2379j  0.    +0.j      0.4633-0.2381j -0.1243-0.1915j\n",
      " -0.4796+0.2215j -0.4633+0.2381j  0.    +0.j      0.4   -0.4149j\n",
      "  0.0642-0.0605j  0.1243+0.1915j -0.4   +0.4149j  0.    +0.j    ]\n"
     ]
    }
   ],
   "source": [
    "print(sum([c[i]*b[i] for i in range(len(c))]))"
   ]
  },
  {
   "cell_type": "code",
   "execution_count": 19,
   "metadata": {},
   "outputs": [
    {
     "name": "stdout",
     "output_type": "stream",
     "text": [
      "[ 0.    +0.j      0.03  -0.2379j  0.4796-0.2215j -0.0642+0.0605j\n",
      " -0.03  +0.2379j  0.    +0.j      0.4633-0.2381j -0.1243-0.1915j\n",
      " -0.4796+0.2215j -0.4633+0.2381j  0.    +0.j      0.4   -0.4149j\n",
      "  0.0642-0.0605j  0.1243+0.1915j -0.4   +0.4149j  0.    +0.j    ]\n"
     ]
    }
   ],
   "source": [
    "print(antisymmetrize(*G))"
   ]
  },
  {
   "cell_type": "markdown",
   "metadata": {},
   "source": [
    "## Multiconstellations for (j, k)-planes"
   ]
  },
  {
   "cell_type": "code",
   "execution_count": 20,
   "metadata": {},
   "outputs": [],
   "source": [
    "def spin_operator_to_plucker(O, k):\n",
    "    n = len(O)\n",
    "    P = plucker_basis(k, n)\n",
    "    return P @ sum([reduce(np.kron, \\\n",
    "                               [O if i == j else np.eye(n) \\\n",
    "                                   for j in range(k)])\\\n",
    "                                       for i in range(k)]) @ P.T/k\n",
    "\n",
    "def lower_until_zero(j, k, highest=None):\n",
    "    N = int(binom(int(2*j+1), k))\n",
    "    highest = highest if type(highest) == np.ndarray else basis(N, 0)\n",
    "    rungs = [highest]\n",
    "    L = spin_operator_to_plucker(sigma_minus(j), k)\n",
    "    while not np.allclose(rungs[-1], np.zeros(N)):\n",
    "        rungs[-1] = rungs[-1]/np.linalg.norm(rungs[-1])\n",
    "        rungs.append(L @ rungs[-1])\n",
    "    return np.array(rungs[:-1])"
   ]
  },
  {
   "cell_type": "markdown",
   "metadata": {},
   "source": [
    "### Example 4. Irreducible components for (1, 2)-planes"
   ]
  },
  {
   "cell_type": "code",
   "execution_count": 21,
   "metadata": {},
   "outputs": [
    {
     "name": "stdout",
     "output_type": "stream",
     "text": [
      "[[ 0.  1.  0. -1.  0.  0.  0.  0.  0.]\n",
      " [ 0.  0.  1.  0.  0.  0. -1.  0.  0.]\n",
      " [ 0.  0.  0.  0.  0.  1.  0. -1.  0.]]\n"
     ]
    }
   ],
   "source": [
    "print(plucker_basis(2,3))"
   ]
  },
  {
   "cell_type": "code",
   "execution_count": 22,
   "metadata": {},
   "outputs": [
    {
     "data": {
      "text/plain": [
       "array([[1., 0., 0.],\n",
       "       [0., 1., 0.],\n",
       "       [0., 0., 1.]])"
      ]
     },
     "execution_count": 22,
     "metadata": {},
     "output_type": "execute_result"
    }
   ],
   "source": [
    "lower_until_zero(1, 2)"
   ]
  },
  {
   "cell_type": "code",
   "execution_count": 23,
   "metadata": {},
   "outputs": [],
   "source": [
    "W = np.array([[1,0,1j], [0, 1, 1-1j]])"
   ]
  },
  {
   "cell_type": "code",
   "execution_count": 24,
   "metadata": {},
   "outputs": [
    {
     "data": {
      "text/plain": [
       "array([[-0.7071,  0.7071,  0.    ],\n",
       "       [ 0.7071, -0.7071,  0.    ]])"
      ]
     },
     "execution_count": 24,
     "metadata": {},
     "output_type": "execute_result"
    }
   ],
   "source": [
    "majorana_stars(W[0])"
   ]
  },
  {
   "cell_type": "code",
   "execution_count": 25,
   "metadata": {},
   "outputs": [
    {
     "data": {
      "text/plain": [
       "array([1.+0.j, 1.-1.j, 0.-1.j])"
      ]
     },
     "execution_count": 25,
     "metadata": {},
     "output_type": "execute_result"
    }
   ],
   "source": [
    "plucker_coordinates(W)"
   ]
  },
  {
   "cell_type": "code",
   "execution_count": 26,
   "metadata": {},
   "outputs": [
    {
     "data": {
      "text/plain": [
       "array([[ 0.7071, -0.7071,  0.    ],\n",
       "       [ 0.7071, -0.7071, -0.    ]])"
      ]
     },
     "execution_count": 26,
     "metadata": {},
     "output_type": "execute_result"
    }
   ],
   "source": [
    "majorana_stars(plucker_coordinates(W))"
   ]
  },
  {
   "cell_type": "markdown",
   "metadata": {},
   "source": [
    "### Example 5. Irreducible components for (3/2, 2)-planes"
   ]
  },
  {
   "cell_type": "code",
   "execution_count": 27,
   "metadata": {},
   "outputs": [
    {
     "name": "stdout",
     "output_type": "stream",
     "text": [
      "[[ 0.  1.  0.  0. -1.  0.  0.  0.  0.  0.  0.  0.  0.  0.  0.  0.]\n",
      " [ 0.  0.  1.  0.  0.  0.  0.  0. -1.  0.  0.  0.  0.  0.  0.  0.]\n",
      " [ 0.  0.  0.  1.  0.  0.  0.  0.  0.  0.  0.  0. -1.  0.  0.  0.]\n",
      " [ 0.  0.  0.  0.  0.  0.  1.  0.  0. -1.  0.  0.  0.  0.  0.  0.]\n",
      " [ 0.  0.  0.  0.  0.  0.  0.  1.  0.  0.  0.  0.  0. -1.  0.  0.]\n",
      " [ 0.  0.  0.  0.  0.  0.  0.  0.  0.  0.  0.  1.  0.  0. -1.  0.]]\n"
     ]
    }
   ],
   "source": [
    "print(plucker_basis(2,4))"
   ]
  },
  {
   "cell_type": "code",
   "execution_count": 28,
   "metadata": {},
   "outputs": [
    {
     "name": "stdout",
     "output_type": "stream",
     "text": [
      "[[1.     0.     0.     0.     0.     0.    ]\n",
      " [0.     1.     0.     0.     0.     0.    ]\n",
      " [0.     0.     0.7071 0.7071 0.     0.    ]\n",
      " [0.     0.     0.     0.     1.     0.    ]\n",
      " [0.     0.     0.     0.     0.     1.    ]]\n"
     ]
    }
   ],
   "source": [
    "U1 = lower_until_zero(3/2, 2)\n",
    "print(U1)"
   ]
  },
  {
   "cell_type": "code",
   "execution_count": 29,
   "metadata": {},
   "outputs": [
    {
     "name": "stdout",
     "output_type": "stream",
     "text": [
      "[[ 0.      0.      0.7071 -0.7071  0.      0.    ]]\n"
     ]
    }
   ],
   "source": [
    "U2 = lower_until_zero(3/2, 2, np.array([0,0,1,-1,0,0])/np.sqrt(2))\n",
    "print(U2)"
   ]
  },
  {
   "cell_type": "code",
   "execution_count": 30,
   "metadata": {},
   "outputs": [
    {
     "name": "stdout",
     "output_type": "stream",
     "text": [
      "[[ 1.      0.      0.      0.      0.      0.    ]\n",
      " [ 0.      1.      0.      0.      0.      0.    ]\n",
      " [ 0.      0.      0.7071  0.7071  0.      0.    ]\n",
      " [ 0.      0.      0.      0.      1.      0.    ]\n",
      " [ 0.      0.      0.      0.      0.      1.    ]\n",
      " [ 0.      0.      0.7071 -0.7071  0.      0.    ]]\n"
     ]
    }
   ],
   "source": [
    "U_32_2 = np.concatenate([U1, U2])\n",
    "print(U_32_2)"
   ]
  },
  {
   "cell_type": "code",
   "execution_count": 31,
   "metadata": {},
   "outputs": [],
   "source": [
    "W = np.array([[1,0,1j,0],[0,1,0,1j]])/np.sqrt(2)"
   ]
  },
  {
   "cell_type": "code",
   "execution_count": 32,
   "metadata": {},
   "outputs": [
    {
     "name": "stdout",
     "output_type": "stream",
     "text": [
      "[ 0.5+0.j   0. +0.j   0. +0.5j  0. -0.5j  0. +0.j  -0.5+0.j ]\n"
     ]
    }
   ],
   "source": [
    "print(plucker_coordinates(W))"
   ]
  },
  {
   "cell_type": "code",
   "execution_count": 33,
   "metadata": {},
   "outputs": [
    {
     "name": "stdout",
     "output_type": "stream",
     "text": [
      "[ 0.5+0.j      0. +0.j      0. +0.j      0. +0.j     -0.5+0.j\n",
      "  0. +0.7071j]\n"
     ]
    }
   ],
   "source": [
    "print(U_32_2 @ plucker_coordinates(W))"
   ]
  },
  {
   "cell_type": "code",
   "execution_count": 34,
   "metadata": {},
   "outputs": [
    {
     "data": {
      "text/html": [
       "<div id=\"glowscript\" class=\"glowscript\"></div>"
      ],
      "text/plain": [
       "<IPython.core.display.HTML object>"
      ]
     },
     "metadata": {},
     "output_type": "display_data"
    },
    {
     "data": {
      "application/javascript": "if (typeof Jupyter !== \"undefined\") { window.__context = { glowscript_container: $(\"#glowscript\").removeAttr(\"id\")};}else{ element.textContent = ' ';}",
      "text/plain": [
       "<IPython.core.display.Javascript object>"
      ]
     },
     "metadata": {},
     "output_type": "display_data"
    }
   ],
   "source": [
    "viz_majorana_stars((U_32_2 @ plucker_coordinates(W))[:5])"
   ]
  },
  {
   "cell_type": "code",
   "execution_count": 35,
   "metadata": {},
   "outputs": [],
   "source": [
    "W = np.array([[1,0,-1j,0], [0,1,0,-1j]])/np.sqrt(2)"
   ]
  },
  {
   "cell_type": "code",
   "execution_count": 36,
   "metadata": {},
   "outputs": [
    {
     "name": "stdout",
     "output_type": "stream",
     "text": [
      "[ 0.5+0.j   0. +0.j   0. -0.5j  0. +0.5j  0. +0.j  -0.5+0.j ]\n"
     ]
    }
   ],
   "source": [
    "print(plucker_coordinates(W))"
   ]
  },
  {
   "cell_type": "code",
   "execution_count": 37,
   "metadata": {},
   "outputs": [
    {
     "name": "stdout",
     "output_type": "stream",
     "text": [
      "[ 0.5+0.j      0. +0.j      0. +0.j      0. +0.j     -0.5+0.j\n",
      "  0. -0.7071j]\n"
     ]
    }
   ],
   "source": [
    "print(U_32_2 @ plucker_coordinates(W))"
   ]
  },
  {
   "cell_type": "code",
   "execution_count": 38,
   "metadata": {},
   "outputs": [
    {
     "data": {
      "text/html": [
       "<div id=\"glowscript\" class=\"glowscript\"></div>"
      ],
      "text/plain": [
       "<IPython.core.display.HTML object>"
      ]
     },
     "metadata": {},
     "output_type": "display_data"
    },
    {
     "data": {
      "application/javascript": "if (typeof Jupyter !== \"undefined\") { window.__context = { glowscript_container: $(\"#glowscript\").removeAttr(\"id\")};}else{ element.textContent = ' ';}",
      "text/plain": [
       "<IPython.core.display.Javascript object>"
      ]
     },
     "metadata": {},
     "output_type": "display_data"
    }
   ],
   "source": [
    "viz_majorana_stars((U_32_2 @ plucker_coordinates(W))[:5])"
   ]
  },
  {
   "cell_type": "markdown",
   "metadata": {},
   "source": [
    "### Example 6. Multiconstellation for a (2, 2)-plane"
   ]
  },
  {
   "cell_type": "code",
   "execution_count": 39,
   "metadata": {},
   "outputs": [
    {
     "name": "stdout",
     "output_type": "stream",
     "text": [
      "[[ 1.      0.      0.      0.      0.      0.      0.      0.      0.\n",
      "   0.    ]\n",
      " [ 0.      1.      0.      0.      0.      0.      0.      0.      0.\n",
      "   0.    ]\n",
      " [ 0.      0.      0.7746  0.      0.6325  0.      0.      0.      0.\n",
      "   0.    ]\n",
      " [ 0.      0.      0.      0.4472  0.      0.8944  0.      0.      0.\n",
      "   0.    ]\n",
      " [ 0.      0.      0.      0.      0.      0.      0.7746  0.6325  0.\n",
      "   0.    ]\n",
      " [ 0.      0.      0.      0.      0.      0.      0.      0.      1.\n",
      "   0.    ]\n",
      " [ 0.      0.      0.      0.      0.      0.      0.      0.      0.\n",
      "   1.    ]\n",
      " [ 0.      0.      0.6325  0.     -0.7746  0.      0.      0.      0.\n",
      "   0.    ]\n",
      " [ 0.      0.      0.      0.8944  0.     -0.4472  0.      0.      0.\n",
      "   0.    ]\n",
      " [ 0.      0.      0.      0.      0.      0.      0.6325 -0.7746  0.\n",
      "   0.    ]]\n"
     ]
    }
   ],
   "source": [
    "U1 = lower_until_zero(2,2)\n",
    "U2 = lower_until_zero(2,2,np.array([0,0,np.sqrt(2/5), 0, -np.sqrt(3/5),0,0,0,0,0]))\n",
    "U_2_2 = np.concatenate([U1, U2])\n",
    "print(U_2_2)"
   ]
  },
  {
   "cell_type": "code",
   "execution_count": 40,
   "metadata": {},
   "outputs": [],
   "source": [
    "W = np.array([[1,0,1,0,0],[0,1,0,0,1]])/np.sqrt(2)"
   ]
  },
  {
   "cell_type": "code",
   "execution_count": 41,
   "metadata": {},
   "outputs": [
    {
     "name": "stdout",
     "output_type": "stream",
     "text": [
      "[ 0.5  0.   0.   0.5 -0.5  0.   0.   0.   0.5  0. ]\n"
     ]
    }
   ],
   "source": [
    "print(plucker_coordinates(W))"
   ]
  },
  {
   "cell_type": "code",
   "execution_count": 42,
   "metadata": {},
   "outputs": [
    {
     "name": "stdout",
     "output_type": "stream",
     "text": [
      "[ 0.5     0.     -0.3162  0.2236  0.      0.5     0.      0.3873  0.4472\n",
      "  0.    ]\n"
     ]
    }
   ],
   "source": [
    "BD = U_2_2 @ plucker_coordinates(W); print(BD)"
   ]
  },
  {
   "cell_type": "code",
   "execution_count": 43,
   "metadata": {},
   "outputs": [],
   "source": [
    "spin3 = BD[:7]; spin1 = BD[7:]"
   ]
  },
  {
   "cell_type": "markdown",
   "metadata": {},
   "source": [
    "### Finding the spectator constellation"
   ]
  },
  {
   "cell_type": "code",
   "execution_count": 44,
   "metadata": {},
   "outputs": [],
   "source": [
    "def spherical_tensor(j, l, m):\n",
    "    return np.array([[(-1.)**(j-m1-m)*clebsch(j, j, l, m1, -m2, m) \\\n",
    "                   for m1 in np.arange(j, -j-1, -1)]\\\n",
    "                          for m2 in np.arange(j, -j-1, -1)])\n",
    "\n",
    "def multipole_expansion(O):\n",
    "    j = (len(O)-1)/2\n",
    "    return np.array([[(spherical_tensor(j, l, m).conj().T @ O).trace() for m in np.arange(-l, l+1)] for l in np.arange(0, 2*j+1)])"
   ]
  },
  {
   "cell_type": "code",
   "execution_count": 45,
   "metadata": {},
   "outputs": [],
   "source": [
    "def expect_xyz(ket):\n",
    "    j = (len(ket)-1)/2\n",
    "    return np.array([ket.conj() @ sigma_x(j) @ ket,\\\n",
    "                     ket.conj() @ sigma_y(j) @ ket,\\\n",
    "                     ket.conj() @ sigma_z(j) @ ket]).real\n",
    "\n",
    "def rotate(j, theta, phi):\n",
    "    return sc.linalg.expm((theta/2) * \\\n",
    "                          (np.exp(-1j*phi)*sigma_plus(j) -\\\n",
    "                           np.exp(1j*phi)*sigma_minus(j)))\n",
    "\n",
    "def cartesian_to_spherical(xyz):\n",
    "    x, y, z = xyz\n",
    "    r = np.linalg.norm(xyz)\n",
    "    return np.array([r,np.arccos(z/r),np.arctan2(y,x)])"
   ]
  },
  {
   "cell_type": "code",
   "execution_count": 46,
   "metadata": {},
   "outputs": [],
   "source": [
    "def first_nonzero_in_multipole_expansion(ket):\n",
    "    j = (len(ket)-1)/2\n",
    "    MP = multipole_expansion(np.outer(ket, ket.conj()))\n",
    "    for l in np.arange(0, 2*j+1):\n",
    "        for m in np.arange(-l, l+1):\n",
    "            c = MP[int(l)][int(m+l)]\n",
    "            if not np.isclose(c,0) and m != 0:\n",
    "                return [c, l, m]\n",
    "            \n",
    "def spectator_component(ket):\n",
    "    if len(ket) == 1:\n",
    "        return ket[0]\n",
    "    j = (len(ket)-1)/2\n",
    "    r, theta, phi = cartesian_to_spherical(expect_xyz(ket))\n",
    "    ket_ = rotate(j, theta, phi) @ ket\n",
    "    c, l, m = first_nonzero_in_multipole_expansion(ket_)\n",
    "    ket__ = sc.linalg.expm(-1j*np.angle(c)*sigma_z(j)/m) @ ket_\n",
    "    c2 = ket__[np.where(np.logical_not(np.isclose(ket__, 0)))[0][0]]\n",
    "    return np.sqrt(ket.conj() @ ket)*np.exp(1j*np.angle(c2))"
   ]
  },
  {
   "cell_type": "markdown",
   "metadata": {},
   "source": [
    "### By hand, for the spin-3 part"
   ]
  },
  {
   "cell_type": "code",
   "execution_count": 47,
   "metadata": {},
   "outputs": [
    {
     "data": {
      "text/plain": [
       "array([-0.2449,  0.    ,  0.35  ])"
      ]
     },
     "execution_count": 47,
     "metadata": {},
     "output_type": "execute_result"
    }
   ],
   "source": [
    "expect_xyz(spin3)"
   ]
  },
  {
   "cell_type": "code",
   "execution_count": 48,
   "metadata": {},
   "outputs": [
    {
     "data": {
      "text/plain": [
       "(0.6106281135425041, 3.141592653589793)"
      ]
     },
     "execution_count": 48,
     "metadata": {},
     "output_type": "execute_result"
    }
   ],
   "source": [
    "r, theta, phi = cartesian_to_spherical(expect_xyz(spin3)); theta, phi"
   ]
  },
  {
   "cell_type": "code",
   "execution_count": 51,
   "metadata": {},
   "outputs": [],
   "source": [
    "spin3_ = rotate(3, theta, phi) @ spin3"
   ]
  },
  {
   "cell_type": "code",
   "execution_count": 52,
   "metadata": {},
   "outputs": [
    {
     "data": {
      "text/plain": [
       "array([list([(0.24567690745599757+0j)]),\n",
       "       list([(6.938893903907228e-18+4.008597611912941e-18j), (0.08073324682469504+0j), (-6.938893903907228e-18+4.008597611912942e-18j)]),\n",
       "       list([(0.011349449999020763+3.545966333935906e-18j), (0.043344649430436824+6.402920632522105e-18j), (0.05403134747966522+0j), (-0.043344649430436824+6.402920632522105e-18j), (0.011349449999020763-3.545966333935906e-18j)]),\n",
       "       list([(-0.08993661123520022-2.2372105749071587e-18j), (0.043417288866579175+9.84602891805298e-18j), (0.14103797950199523-4.383216340710986e-18j), (-0.1013373901874251+0j), (-0.14103797950199523-4.383216340710986e-18j), (0.043417288866579175-9.84602891805298e-18j), (0.08993661123520022-2.2372105749071587e-18j)]),\n",
       "       list([(0.033428586304941776-1.3193812744834549e-18j), (-0.04308546177938187-1.2064705686510923e-17j), (-0.09533361836754878-4.872422667621215e-18j), (0.033615351535922725-4.028725231026191e-17j), (-0.1708794296759276+0j), (-0.033615351535922725-4.028725231026192e-17j), (-0.09533361836754878+4.872422667621215e-18j), (0.04308546177938187-1.2064705686510923e-17j), (0.033428586304941776+1.3193812744834549e-18j)]),\n",
       "       list([(0.1675351698991623+1.575858026152878e-17j), (-0.025038119388911904+3.201938681605745e-17j), (0.10496355290414361+4.085232230639064e-18j), (0.004918846476243011+4.018362053715974e-17j), (0.11794500622371482-2.7595229488649105e-17j), (-0.16182437313870146+0j), (-0.11794500622371482-2.7595229488649105e-17j), (0.004918846476243011-4.018362053715974e-17j), (-0.10496355290414361+4.085232230639066e-18j), (-0.025038119388911904-3.201938681605745e-17j), (-0.1675351698991623+1.575858026152878e-17j)]),\n",
       "       list([(0.07889199252846078+3.1896584085852055e-19j), (-0.0835097674928374-2.4429910471873255e-17j), (-0.1505012248227166-1.076989281607903e-17j), (0.0847893105187474-2.9956700162987865e-17j), (-0.031540641852101224+2.0266089820735568e-17j), (0.017116034932063866-1.3722493797776595e-17j), (-0.031193413760592387+0j), (-0.017116034932063866-1.3722493797776595e-17j), (-0.031540641852101224-2.026608982073557e-17j), (-0.08478931051874741-2.9956700162987865e-17j), (-0.1505012248227166+1.076989281607903e-17j), (0.0835097674928374-2.4429910471873255e-17j), (0.07889199252846078-3.1896584085852055e-19j)])],\n",
       "      dtype=object)"
      ]
     },
     "execution_count": 52,
     "metadata": {},
     "output_type": "execute_result"
    }
   ],
   "source": [
    "multipole_expansion(np.outer(spin3_, spin3_.conj()))"
   ]
  },
  {
   "cell_type": "code",
   "execution_count": 53,
   "metadata": {},
   "outputs": [
    {
     "data": {
      "text/plain": [
       "array([ 0.2583-0.j,  0.5813+0.j, -0.1198-0.j,  0.0847+0.j, -0.2787-0.j,\n",
       "        0.23  -0.j,  0.3054-0.j])"
      ]
     },
     "execution_count": 53,
     "metadata": {},
     "output_type": "execute_result"
    }
   ],
   "source": [
    "spin3_"
   ]
  },
  {
   "cell_type": "code",
   "execution_count": 54,
   "metadata": {},
   "outputs": [
    {
     "data": {
      "text/plain": [
       "0.8062257748298548"
      ]
     },
     "execution_count": 54,
     "metadata": {},
     "output_type": "execute_result"
    }
   ],
   "source": [
    "np.sqrt(spin3.conj() @ spin3)"
   ]
  },
  {
   "cell_type": "markdown",
   "metadata": {},
   "source": [
    "Or use:"
   ]
  },
  {
   "cell_type": "code",
   "execution_count": 55,
   "metadata": {},
   "outputs": [
    {
     "data": {
      "text/plain": [
       "(0.8062257748298548+2.7535412998904975e-16j)"
      ]
     },
     "execution_count": 55,
     "metadata": {},
     "output_type": "execute_result"
    }
   ],
   "source": [
    "spectator_component(spin3)"
   ]
  },
  {
   "cell_type": "markdown",
   "metadata": {},
   "source": [
    "### By hand, for the spin-1 part"
   ]
  },
  {
   "cell_type": "code",
   "execution_count": 56,
   "metadata": {},
   "outputs": [
    {
     "data": {
      "text/plain": [
       "array([0.2449, 0.    , 0.15  ])"
      ]
     },
     "execution_count": 56,
     "metadata": {},
     "output_type": "execute_result"
    }
   ],
   "source": [
    "expect_xyz(spin1)"
   ]
  },
  {
   "cell_type": "code",
   "execution_count": 57,
   "metadata": {},
   "outputs": [
    {
     "data": {
      "text/plain": [
       "(1.0213290820372694, 0.0)"
      ]
     },
     "execution_count": 57,
     "metadata": {},
     "output_type": "execute_result"
    }
   ],
   "source": [
    "r, theta, phi = cartesian_to_spherical(expect_xyz(spin1)); theta, phi"
   ]
  },
  {
   "cell_type": "code",
   "execution_count": 58,
   "metadata": {},
   "outputs": [],
   "source": [
    "spin1_ = rotate(1, theta, phi) @ spin1"
   ]
  },
  {
   "cell_type": "code",
   "execution_count": 59,
   "metadata": {},
   "outputs": [
    {
     "data": {
      "text/plain": [
       "array([list([(0.20207259421636883+0j)]),\n",
       "       list([(-3.0404709722440573e-17+0j), (0.20310096011589887+0j), (3.0404709722440573e-17+0j)]),\n",
       "       list([(-0.09999999999999992+0j), (-5.822058658345459e-17+0j), (0.14288690166235196+0j), (5.822058658345459e-17+0j), (-0.09999999999999992+0j)])],\n",
       "      dtype=object)"
      ]
     },
     "execution_count": 59,
     "metadata": {},
     "output_type": "execute_result"
    }
   ],
   "source": [
    "multipole_expansion(np.outer(spin1_, spin1_.conj()))"
   ]
  },
  {
   "cell_type": "code",
   "execution_count": 60,
   "metadata": {},
   "outputs": [
    {
     "data": {
      "text/plain": [
       "array([ 0.+0.5645j, -0.+0.j    ,  0.+0.1772j])"
      ]
     },
     "execution_count": 60,
     "metadata": {},
     "output_type": "execute_result"
    }
   ],
   "source": [
    "spin1__ = sc.linalg.expm(1j*np.pi*sigma_z(1)/2) @ spin1_; spin1__"
   ]
  },
  {
   "cell_type": "code",
   "execution_count": 61,
   "metadata": {},
   "outputs": [
    {
     "data": {
      "text/plain": [
       "(3.6225540849366556e-17+0.5916079783099615j)"
      ]
     },
     "execution_count": 61,
     "metadata": {},
     "output_type": "execute_result"
    }
   ],
   "source": [
    "np.sqrt(spin1.conj() @ spin1) * np.exp(1j*np.angle(spin1__[0]))"
   ]
  },
  {
   "cell_type": "markdown",
   "metadata": {},
   "source": [
    "Or use:"
   ]
  },
  {
   "cell_type": "code",
   "execution_count": 62,
   "metadata": {},
   "outputs": [
    {
     "data": {
      "text/plain": [
       "(3.6225540849366556e-17+0.5916079783099615j)"
      ]
     },
     "execution_count": 62,
     "metadata": {},
     "output_type": "execute_result"
    }
   ],
   "source": [
    "spectator_component(spin1)"
   ]
  },
  {
   "cell_type": "markdown",
   "metadata": {},
   "source": [
    "### Putting it together:"
   ]
  },
  {
   "cell_type": "code",
   "execution_count": 63,
   "metadata": {},
   "outputs": [
    {
     "data": {
      "text/html": [
       "<div id=\"glowscript\" class=\"glowscript\"></div>"
      ],
      "text/plain": [
       "<IPython.core.display.HTML object>"
      ]
     },
     "metadata": {},
     "output_type": "display_data"
    },
    {
     "data": {
      "application/javascript": "if (typeof Jupyter !== \"undefined\") { window.__context = { glowscript_container: $(\"#glowscript\").removeAttr(\"id\")};}else{ element.textContent = ' ';}",
      "text/plain": [
       "<IPython.core.display.Javascript object>"
      ]
     },
     "metadata": {},
     "output_type": "display_data"
    }
   ],
   "source": [
    "viz_majorana_stars(spin3)"
   ]
  },
  {
   "cell_type": "code",
   "execution_count": 64,
   "metadata": {},
   "outputs": [
    {
     "data": {
      "text/html": [
       "<div id=\"glowscript\" class=\"glowscript\"></div>"
      ],
      "text/plain": [
       "<IPython.core.display.HTML object>"
      ]
     },
     "metadata": {},
     "output_type": "display_data"
    },
    {
     "data": {
      "application/javascript": "if (typeof Jupyter !== \"undefined\") { window.__context = { glowscript_container: $(\"#glowscript\").removeAttr(\"id\")};}else{ element.textContent = ' ';}",
      "text/plain": [
       "<IPython.core.display.Javascript object>"
      ]
     },
     "metadata": {},
     "output_type": "display_data"
    }
   ],
   "source": [
    "viz_majorana_stars(spin1)"
   ]
  },
  {
   "cell_type": "code",
   "execution_count": 65,
   "metadata": {},
   "outputs": [
    {
     "data": {
      "text/plain": [
       "array([0.8062+0.j    , 0.    +0.5916j])"
      ]
     },
     "execution_count": 65,
     "metadata": {},
     "output_type": "execute_result"
    }
   ],
   "source": [
    "spectator = np.array([spectator_component(spin3), spectator_component(spin1)]); spectator"
   ]
  },
  {
   "cell_type": "code",
   "execution_count": 66,
   "metadata": {},
   "outputs": [
    {
     "data": {
      "text/html": [
       "<div id=\"glowscript\" class=\"glowscript\"></div>"
      ],
      "text/plain": [
       "<IPython.core.display.HTML object>"
      ]
     },
     "metadata": {},
     "output_type": "display_data"
    },
    {
     "data": {
      "application/javascript": "if (typeof Jupyter !== \"undefined\") { window.__context = { glowscript_container: $(\"#glowscript\").removeAttr(\"id\")};}else{ element.textContent = ' ';}",
      "text/plain": [
       "<IPython.core.display.Javascript object>"
      ]
     },
     "metadata": {},
     "output_type": "display_data"
    }
   ],
   "source": [
    "viz_majorana_stars(spectator)"
   ]
  },
  {
   "cell_type": "markdown",
   "metadata": {},
   "source": [
    "## Holonomies"
   ]
  },
  {
   "cell_type": "code",
   "execution_count": 67,
   "metadata": {},
   "outputs": [],
   "source": [
    "def check_1anticoherence(G):\n",
    "    k, n = G.shape\n",
    "    j = (n-1)/2\n",
    "    return np.allclose(np.array([G @ sigma_x(j) @ G.conj().T,\\\n",
    "                                 G @ sigma_y(j) @ G.conj().T,\\\n",
    "                                 G @ sigma_z(j) @ G.conj().T]),0)"
   ]
  },
  {
   "cell_type": "code",
   "execution_count": 68,
   "metadata": {},
   "outputs": [],
   "source": [
    "def qmatrix(f, t):\n",
    "    k = len(f(0))\n",
    "    return np.array([[f(0)[i].conj() @ f(t)[j] for j in range(k)] for i in range(k)])\n",
    "\n",
    "def holonomy(f, t):\n",
    "    U, D, V = np.linalg.svd(qmatrix(f, t))\n",
    "    return U @ V\n",
    "\n",
    "def rot_holonomy(G, R):\n",
    "    k = G.shape[0]\n",
    "    G_ = G @ R\n",
    "    Q = np.array([[G[i].conj() @ G_[j] for j in range(k)] for i in range(k)])\n",
    "    U, D, V = np.linalg.svd(Q)\n",
    "    return U @ V"
   ]
  },
  {
   "cell_type": "markdown",
   "metadata": {},
   "source": [
    "### Example 1: a spin-2 2 plane"
   ]
  },
  {
   "cell_type": "code",
   "execution_count": 69,
   "metadata": {},
   "outputs": [
    {
     "data": {
      "text/html": [
       "<div id=\"glowscript\" class=\"glowscript\"></div>"
      ],
      "text/plain": [
       "<IPython.core.display.HTML object>"
      ]
     },
     "metadata": {},
     "output_type": "display_data"
    },
    {
     "data": {
      "application/javascript": "if (typeof Jupyter !== \"undefined\") { window.__context = { glowscript_container: $(\"#glowscript\").removeAttr(\"id\")};}else{ element.textContent = ' ';}",
      "text/plain": [
       "<IPython.core.display.Javascript object>"
      ]
     },
     "metadata": {},
     "output_type": "display_data"
    }
   ],
   "source": [
    "psi1 = np.array([1,0,0,np.sqrt(2),0])/np.sqrt(3)\n",
    "viz_majorana_stars(psi1)"
   ]
  },
  {
   "cell_type": "code",
   "execution_count": 70,
   "metadata": {},
   "outputs": [
    {
     "data": {
      "text/html": [
       "<div id=\"glowscript\" class=\"glowscript\"></div>"
      ],
      "text/plain": [
       "<IPython.core.display.HTML object>"
      ]
     },
     "metadata": {},
     "output_type": "display_data"
    },
    {
     "data": {
      "application/javascript": "if (typeof Jupyter !== \"undefined\") { window.__context = { glowscript_container: $(\"#glowscript\").removeAttr(\"id\")};}else{ element.textContent = ' ';}",
      "text/plain": [
       "<IPython.core.display.Javascript object>"
      ]
     },
     "metadata": {},
     "output_type": "display_data"
    }
   ],
   "source": [
    "psi2 = np.array([0,-np.sqrt(2),0,0,1])/np.sqrt(3)\n",
    "viz_majorana_stars(psi2)"
   ]
  },
  {
   "cell_type": "code",
   "execution_count": 71,
   "metadata": {},
   "outputs": [],
   "source": [
    "pi_not = np.array([psi1, psi2])"
   ]
  },
  {
   "cell_type": "code",
   "execution_count": 72,
   "metadata": {},
   "outputs": [
    {
     "data": {
      "text/plain": [
       "True"
      ]
     },
     "execution_count": 72,
     "metadata": {},
     "output_type": "execute_result"
    }
   ],
   "source": [
    "check_1anticoherence(pi_not)"
   ]
  },
  {
   "cell_type": "code",
   "execution_count": 73,
   "metadata": {},
   "outputs": [
    {
     "data": {
      "text/plain": [
       "array([[ 0.+0.j,  1.+0.j],\n",
       "       [ 1.+0.j, -0.+0.j]])"
      ]
     },
     "execution_count": 73,
     "metadata": {},
     "output_type": "execute_result"
    }
   ],
   "source": [
    "pi_not_evolution = lambda t: pi_not @ sc.linalg.expm(-1j*sigma_y(2)*np.pi*t)\n",
    "pi_not_holonomy = holonomy(pi_not_evolution, 1); pi_not_holonomy"
   ]
  },
  {
   "cell_type": "code",
   "execution_count": 74,
   "metadata": {},
   "outputs": [
    {
     "data": {
      "text/plain": [
       "array([[ 0.+0.j,  1.+0.j],\n",
       "       [ 1.+0.j, -0.+0.j]])"
      ]
     },
     "execution_count": 74,
     "metadata": {},
     "output_type": "execute_result"
    }
   ],
   "source": [
    "rot_holonomy(pi_not, sc.linalg.expm(-1j*sigma_y(2)*np.pi))"
   ]
  },
  {
   "cell_type": "code",
   "execution_count": 75,
   "metadata": {},
   "outputs": [
    {
     "data": {
      "text/plain": [
       "array([[ 0.    +0.j, -0.8165+0.j,  0.    +0.j,  0.    +0.j,  0.5774+0.j],\n",
       "       [ 0.5774+0.j,  0.    +0.j,  0.    +0.j,  0.8165+0.j, -0.    +0.j]])"
      ]
     },
     "execution_count": 75,
     "metadata": {},
     "output_type": "execute_result"
    }
   ],
   "source": [
    "pi_not_holonomy @ pi_not_evolution(0)"
   ]
  },
  {
   "cell_type": "code",
   "execution_count": 76,
   "metadata": {},
   "outputs": [
    {
     "data": {
      "text/plain": [
       "array([[ 0.    +0.j, -0.8165+0.j, -0.    +0.j,  0.    +0.j,  0.5774+0.j],\n",
       "       [ 0.5774+0.j,  0.    +0.j, -0.    +0.j,  0.8165+0.j,  0.    +0.j]])"
      ]
     },
     "execution_count": 76,
     "metadata": {},
     "output_type": "execute_result"
    }
   ],
   "source": [
    "pi_not @ sc.linalg.expm(-1j*sigma_y(2)*np.pi)"
   ]
  },
  {
   "cell_type": "code",
   "execution_count": 77,
   "metadata": {},
   "outputs": [
    {
     "data": {
      "text/plain": [
       "array([-0.4714,  0.    ,  0.    ,  0.3333,  0.    ,  0.6667,  0.    ,\n",
       "        0.    ,  0.    ,  0.4714])"
      ]
     },
     "execution_count": 77,
     "metadata": {},
     "output_type": "execute_result"
    }
   ],
   "source": [
    "plucker_coordinates(pi_not)"
   ]
  },
  {
   "cell_type": "code",
   "execution_count": 78,
   "metadata": {},
   "outputs": [
    {
     "data": {
      "text/plain": [
       "array([-0.4714,  0.    ,  0.    ,  0.7454,  0.    ,  0.    ,  0.4714,\n",
       "        0.    ,  0.    ,  0.    ])"
      ]
     },
     "execution_count": 78,
     "metadata": {},
     "output_type": "execute_result"
    }
   ],
   "source": [
    "bd_pi_not = U_2_2 @ plucker_coordinates(pi_not); bd_pi_not"
   ]
  },
  {
   "cell_type": "code",
   "execution_count": 79,
   "metadata": {
    "scrolled": false
   },
   "outputs": [
    {
     "data": {
      "text/html": [
       "<div id=\"glowscript\" class=\"glowscript\"></div>"
      ],
      "text/plain": [
       "<IPython.core.display.HTML object>"
      ]
     },
     "metadata": {},
     "output_type": "display_data"
    },
    {
     "data": {
      "application/javascript": "if (typeof Jupyter !== \"undefined\") { window.__context = { glowscript_container: $(\"#glowscript\").removeAttr(\"id\")};}else{ element.textContent = ' ';}",
      "text/plain": [
       "<IPython.core.display.Javascript object>"
      ]
     },
     "metadata": {},
     "output_type": "display_data"
    }
   ],
   "source": [
    "pi_not_spin3 = bd_pi_not[0:7]\n",
    "viz_majorana_stars(pi_not_spin3)"
   ]
  },
  {
   "cell_type": "markdown",
   "metadata": {},
   "source": [
    "#### So:"
   ]
  },
  {
   "cell_type": "code",
   "execution_count": 80,
   "metadata": {},
   "outputs": [
    {
     "data": {
      "text/plain": [
       "array([ 0.3333, -0.6667,  0.    ,  0.4714,  0.4714])"
      ]
     },
     "execution_count": 80,
     "metadata": {},
     "output_type": "execute_result"
    }
   ],
   "source": [
    "test = np.sqrt(1/3)*psi1 + np.sqrt(2/3)*psi2; test"
   ]
  },
  {
   "cell_type": "code",
   "execution_count": 81,
   "metadata": {},
   "outputs": [
    {
     "data": {
      "text/plain": [
       "array([ 0.4714+0.j, -0.4714+0.j,  0.    +0.j,  0.6667+0.j,  0.3333+0.j])"
      ]
     },
     "execution_count": 81,
     "metadata": {},
     "output_type": "execute_result"
    }
   ],
   "source": [
    "sc.linalg.expm(-1j*sigma_y(2)*np.pi) @ test"
   ]
  },
  {
   "cell_type": "code",
   "execution_count": 82,
   "metadata": {},
   "outputs": [
    {
     "data": {
      "text/plain": [
       "array([ 0.4714, -0.4714,  0.    ,  0.6667,  0.3333])"
      ]
     },
     "execution_count": 82,
     "metadata": {},
     "output_type": "execute_result"
    }
   ],
   "source": [
    "np.sqrt(2/3)*psi1 + np.sqrt(1/3)*psi2"
   ]
  },
  {
   "cell_type": "markdown",
   "metadata": {},
   "source": [
    "### Example 2: a spin-5 4 plane"
   ]
  },
  {
   "cell_type": "code",
   "execution_count": 83,
   "metadata": {},
   "outputs": [],
   "source": [
    "pi_cnot = np.array([(spin_basis(5,5) + 1j*np.sqrt(2)*spin_basis(5,0) + spin_basis(5,-5))/2,\\\n",
    "                    (spin_basis(5,5) - 1j*np.sqrt(2)*spin_basis(5,0) + spin_basis(5,-5))/2,\\\n",
    "                    (np.sqrt(2)*spin_basis(5,3) + 1j*np.sqrt(3)*spin_basis(5,-2) )/np.sqrt(5),\\\n",
    "                    (1j*np.sqrt(3)*spin_basis(5,2) + np.sqrt(2)*spin_basis(5,-3))/np.sqrt(5)])"
   ]
  },
  {
   "cell_type": "code",
   "execution_count": 84,
   "metadata": {},
   "outputs": [
    {
     "data": {
      "text/plain": [
       "True"
      ]
     },
     "execution_count": 84,
     "metadata": {},
     "output_type": "execute_result"
    }
   ],
   "source": [
    "check_1anticoherence(pi_cnot)"
   ]
  },
  {
   "cell_type": "code",
   "execution_count": 85,
   "metadata": {},
   "outputs": [
    {
     "data": {
      "text/plain": [
       "array([[-1.+0.j, -0.+0.j, -0.+0.j,  0.+0.j],\n",
       "       [ 0.+0.j, -1.+0.j, -0.+0.j, -0.+0.j],\n",
       "       [-0.+0.j,  0.+0.j,  0.+0.j, -1.+0.j],\n",
       "       [ 0.+0.j,  0.+0.j, -1.+0.j, -0.+0.j]])"
      ]
     },
     "execution_count": 85,
     "metadata": {},
     "output_type": "execute_result"
    }
   ],
   "source": [
    "pi_cnot_holonomy1 = rot_holonomy(pi_cnot, sc.linalg.expm(-1j*sigma_x(5)*np.pi)); pi_cnot_holonomy1"
   ]
  },
  {
   "cell_type": "code",
   "execution_count": 86,
   "metadata": {},
   "outputs": [
    {
     "data": {
      "text/plain": [
       "True"
      ]
     },
     "execution_count": 86,
     "metadata": {},
     "output_type": "execute_result"
    }
   ],
   "source": [
    "np.allclose(pi_cnot_holonomy1 @ pi_cnot, pi_cnot @  sc.linalg.expm(-1j*sigma_x(5)*np.pi))"
   ]
  },
  {
   "cell_type": "code",
   "execution_count": 87,
   "metadata": {},
   "outputs": [
    {
     "data": {
      "text/plain": [
       "array([[ 1.   +0.j    ,  0.   +0.j    ,  0.   +0.j    ,  0.   +0.j    ],\n",
       "       [-0.   +0.j    ,  1.   +0.j    ,  0.   +0.j    ,  0.   +0.j    ],\n",
       "       [ 0.   +0.j    ,  0.   +0.j    , -0.809+0.5878j,  0.   +0.j    ],\n",
       "       [ 0.   +0.j    ,  0.   +0.j    ,  0.   +0.j    , -0.809-0.5878j]])"
      ]
     },
     "execution_count": 87,
     "metadata": {},
     "output_type": "execute_result"
    }
   ],
   "source": [
    "pi_cnot_holonomy2 = rot_holonomy(pi_cnot, sc.linalg.expm(-1j*sigma_z(5)*(2*np.pi/5))); pi_cnot_holonomy2"
   ]
  },
  {
   "cell_type": "code",
   "execution_count": 88,
   "metadata": {},
   "outputs": [
    {
     "data": {
      "text/plain": [
       "True"
      ]
     },
     "execution_count": 88,
     "metadata": {},
     "output_type": "execute_result"
    }
   ],
   "source": [
    "np.allclose(pi_cnot_holonomy2 @ pi_cnot, pi_cnot @  sc.linalg.expm(-1j*sigma_z(5)*(2*np.pi/5)))"
   ]
  },
  {
   "cell_type": "markdown",
   "metadata": {},
   "source": [
    "## The Principle Constellation of a (j, k) plane"
   ]
  },
  {
   "cell_type": "code",
   "execution_count": 89,
   "metadata": {},
   "outputs": [],
   "source": [
    "def sign(lst):\n",
    "    parity = 1\n",
    "    for i in range(0,len(lst)-1):\n",
    "        if lst[i] != i:\n",
    "            parity *= -1\n",
    "            mn = min(range(i,len(lst)), key=lst.__getitem__)\n",
    "            lst[i],lst[mn] = lst[mn],lst[i]\n",
    "    return parity    \n",
    "\n",
    "def principle_constellation_polynomial(G):\n",
    "    k, n = G.shape\n",
    "    P = [majorana_polynomial(g) for g in G]\n",
    "    W = np.array([[P[i].deriv(m=j) for j in range(k)] for i in range(k)])\n",
    "    return sum([sign(list(perm))*np.prod([W[i,p] for i, p in enumerate(perm)]) for perm in permutations(list(range(k)))]) \n",
    "\n",
    "def number_of_principal_stars(j, k):\n",
    "    return 2*np.sum(np.arange(j-k+1, j+1))"
   ]
  },
  {
   "cell_type": "code",
   "execution_count": 90,
   "metadata": {},
   "outputs": [
    {
     "data": {
      "text/latex": [
       "$x \\mapsto \\color{LightGray}{\\text{0j}}\\color{LightGray}{ + (\\text{0j})\\,x}\\color{LightGray}{ + (\\text{0j})\\,x^{2}}\\color{LightGray}{ + (\\text{0j})\\,x^{3}} + (\\text{(-72737.8195988854+0j)})\\,x^{4}\\color{LightGray}{ + (\\text{0j})\\,x^{5}}\\color{LightGray}{ + (\\text{0j})\\,x^{6}}\\color{LightGray}{ + (\\text{0j})\\,x^{7}}\\color{LightGray}{ + (\\text{0j})\\,x^{8}} + (\\text{2230626.467699155j})\\,x^{9}\\color{LightGray}{ + (\\text{0j})\\,x^{10}}\\color{LightGray}{ + (\\text{0j})\\,x^{11}}\\color{LightGray}{ + (\\text{0j})\\,x^{12}}\\color{LightGray}{ + (\\text{0j})\\,x^{13}} + (\\text{(2.60770320892334e-08+0j)})\\,x^{14}\\color{LightGray}{ + (\\text{0j})\\,x^{15}}\\color{LightGray}{ + (\\text{0j})\\,x^{16}}\\color{LightGray}{ + (\\text{0j})\\,x^{17}}\\color{LightGray}{ + (\\text{0j})\\,x^{18}} + (\\text{-2230626.4676992223j})\\,x^{19}\\color{LightGray}{ + (\\text{0j})\\,x^{20}}\\color{LightGray}{ + (\\text{0j})\\,x^{21}}\\color{LightGray}{ + (\\text{0j})\\,x^{22}}\\color{LightGray}{ + (\\text{0j})\\,x^{23}} + (\\text{(72737.81959888898+0j)})\\,x^{24}$"
      ],
      "text/plain": [
       "Polynomial([     0.          +0.j    ,      0.          +0.j    ,\n",
       "            0.          +0.j    ,      0.          +0.j    ,\n",
       "       -72737.8196      +0.j    ,      0.          +0.j    ,\n",
       "            0.          +0.j    ,      0.          +0.j    ,\n",
       "            0.          +0.j    ,      0.    +2230626.4677j,\n",
       "            0.          +0.j    ,      0.          +0.j    ,\n",
       "            0.          +0.j    ,      0.          +0.j    ,\n",
       "            0.          +0.j    ,      0.          +0.j    ,\n",
       "            0.          +0.j    ,      0.          +0.j    ,\n",
       "            0.          +0.j    ,      0.    -2230626.4677j,\n",
       "            0.          +0.j    ,      0.          +0.j    ,\n",
       "            0.          +0.j    ,      0.          +0.j    ,\n",
       "        72737.8196      +0.j    ], domain=[-1.,  1.], window=[-1.,  1.])"
      ]
     },
     "execution_count": 90,
     "metadata": {},
     "output_type": "execute_result"
    }
   ],
   "source": [
    "principle_constellation_polynomial(pi_cnot)"
   ]
  },
  {
   "cell_type": "code",
   "execution_count": 91,
   "metadata": {},
   "outputs": [
    {
     "data": {
      "text/html": [
       "<div id=\"glowscript\" class=\"glowscript\"></div>"
      ],
      "text/plain": [
       "<IPython.core.display.HTML object>"
      ]
     },
     "metadata": {},
     "output_type": "display_data"
    },
    {
     "data": {
      "application/javascript": "if (typeof Jupyter !== \"undefined\") { window.__context = { glowscript_container: $(\"#glowscript\").removeAttr(\"id\")};}else{ element.textContent = ' ';}",
      "text/plain": [
       "<IPython.core.display.Javascript object>"
      ]
     },
     "metadata": {},
     "output_type": "display_data"
    }
   ],
   "source": [
    "viz_projective_stars(number_of_principal_stars(5,4),\\\n",
    "                     principle_constellation_polynomial(pi_cnot))"
   ]
  },
  {
   "cell_type": "markdown",
   "metadata": {},
   "source": [
    "## Coherent States and Coherent (j,k)-planes"
   ]
  },
  {
   "cell_type": "code",
   "execution_count": 92,
   "metadata": {},
   "outputs": [],
   "source": [
    "def spin_coherent_state(j, z):\n",
    "    if z == np.inf:\n",
    "        return spin_coherent_state(j, 0)[::-1]\n",
    "    return (1+z*z.conjugate())**(-j) * \\\n",
    "            sum([np.sqrt(binom(2*j, j-m))*z**(j-m)*spin_basis(j,m)\\\n",
    "                     for m in np.arange(-j, j+1)])"
   ]
  },
  {
   "cell_type": "code",
   "execution_count": 93,
   "metadata": {},
   "outputs": [
    {
     "data": {
      "text/plain": [
       "array([0.3044, 0.5799, 0.6379, 0.4051])"
      ]
     },
     "execution_count": 93,
     "metadata": {},
     "output_type": "execute_result"
    }
   ],
   "source": [
    "z = 1.1\n",
    "spin_coherent_state(3/2, z)"
   ]
  },
  {
   "cell_type": "code",
   "execution_count": 94,
   "metadata": {},
   "outputs": [
    {
     "data": {
      "text/plain": [
       "array([0.3044, 0.5799, 0.6379, 0.4051])"
      ]
     },
     "execution_count": 94,
     "metadata": {},
     "output_type": "execute_result"
    }
   ],
   "source": [
    "cs = sc.linalg.expm(z*sigma_minus(3/2)) @ spin_basis(3/2,3/2)\n",
    "cs = cs/np.linalg.norm(cs); cs"
   ]
  },
  {
   "cell_type": "code",
   "execution_count": 95,
   "metadata": {},
   "outputs": [],
   "source": [
    "def integer(x):\n",
    "    return np.equal(np.mod(x, 1), 0)\n",
    "\n",
    "def spin_coherent_representation(ket):\n",
    "    j = (len(ket)-1)/2\n",
    "    m = majorana_polynomial(ket)\n",
    "    def scs_rep(z):\n",
    "        if z == np.inf:\n",
    "            return ket[0]\n",
    "        elif np.isclose(z, 0):\n",
    "            return ket[-1]\n",
    "        return ((z.conjugate()/z)/(1+z*z.conjugate()))**j * m(z)\n",
    "    return scs_rep"
   ]
  },
  {
   "cell_type": "code",
   "execution_count": 96,
   "metadata": {},
   "outputs": [],
   "source": [
    "j = 1/2\n",
    "ket = rand_ket(j)\n",
    "scs_rep1 = spin_coherent_representation(ket)\n",
    "scs_rep2 = lambda z: spin_coherent_state(j, np.inf if np.isclose(z, 0) else -1/z.conjugate()).conj() @ ket"
   ]
  },
  {
   "cell_type": "code",
   "execution_count": 97,
   "metadata": {},
   "outputs": [
    {
     "data": {
      "text/plain": [
       "((-0.39475393139254256-0.6390879433575467j),\n",
       " (-0.39475393139254256-0.6390879433575467j))"
      ]
     },
     "execution_count": 97,
     "metadata": {},
     "output_type": "execute_result"
    }
   ],
   "source": [
    "scs_rep1(1), scs_rep2(1)"
   ]
  },
  {
   "cell_type": "code",
   "execution_count": 98,
   "metadata": {},
   "outputs": [
    {
     "data": {
      "text/plain": [
       "((0.19196489707626369+0.9104551138559811j),\n",
       " (0.19196489707626369+0.9104551138559811j))"
      ]
     },
     "execution_count": 98,
     "metadata": {},
     "output_type": "execute_result"
    }
   ],
   "source": [
    "scs_rep1(0), scs_rep2(0)"
   ]
  },
  {
   "cell_type": "code",
   "execution_count": 99,
   "metadata": {},
   "outputs": [
    {
     "data": {
      "text/plain": [
       "((-0.3663014664991682+0.0066482768106103166j),\n",
       " (-0.3663014664991682+0.0066482768106103166j))"
      ]
     },
     "execution_count": 99,
     "metadata": {},
     "output_type": "execute_result"
    }
   ],
   "source": [
    "scs_rep1(np.inf), scs_rep2(np.inf)"
   ]
  },
  {
   "cell_type": "markdown",
   "metadata": {},
   "source": [
    "## Spin Coherent planes <=> Principal Constellations"
   ]
  },
  {
   "cell_type": "code",
   "execution_count": 100,
   "metadata": {},
   "outputs": [],
   "source": [
    "def coherent_plane(j, k):\n",
    "    d = int(2*j+1)\n",
    "    return lambda z: np.eye(d)[:k,:]@sc.linalg.expm(-z*sigma_plus(j)) "
   ]
  },
  {
   "cell_type": "code",
   "execution_count": 101,
   "metadata": {},
   "outputs": [
    {
     "data": {
      "text/plain": [
       "array([[ 1.    , -1.7321,  1.7321, -1.    ],\n",
       "       [ 0.    ,  1.    , -2.    ,  1.7321]])"
      ]
     },
     "execution_count": 101,
     "metadata": {},
     "output_type": "execute_result"
    }
   ],
   "source": [
    "coherent_plane(3/2, 2)(1)"
   ]
  },
  {
   "cell_type": "code",
   "execution_count": 102,
   "metadata": {},
   "outputs": [],
   "source": [
    "w = np.array([[1,0,0,np.sqrt(2)], [0,1,0,0]])"
   ]
  },
  {
   "cell_type": "code",
   "execution_count": 103,
   "metadata": {},
   "outputs": [],
   "source": [
    "# Note that we use 1/z.conjugate() instead of -1/z.conjugate()... why?\n",
    "pcp = lambda z: z**number_of_principal_stars(3/2,2)*\\\n",
    "        plucker_inner_product(coherent_plane(3/2, 2)(1/z.conjugate()), w)"
   ]
  },
  {
   "cell_type": "code",
   "execution_count": 104,
   "metadata": {},
   "outputs": [
    {
     "data": {
      "text/plain": [
       "3.8284271247461885"
      ]
     },
     "execution_count": 104,
     "metadata": {},
     "output_type": "execute_result"
    }
   ],
   "source": [
    "pcp(1)"
   ]
  },
  {
   "cell_type": "code",
   "execution_count": 105,
   "metadata": {},
   "outputs": [
    {
     "data": {
      "text/plain": [
       "3.8284271247461907"
      ]
     },
     "execution_count": 105,
     "metadata": {},
     "output_type": "execute_result"
    }
   ],
   "source": [
    "# Why the sqrt(3)?\n",
    "principle_constellation_polynomial(w)(1)/np.sqrt(3)"
   ]
  },
  {
   "cell_type": "markdown",
   "metadata": {},
   "source": [
    "## Finding 1-Anticoherent Subspaces"
   ]
  },
  {
   "cell_type": "code",
   "execution_count": 106,
   "metadata": {},
   "outputs": [],
   "source": [
    "import jax\n",
    "import jax.numpy as jp\n",
    "from jax.config import config\n",
    "config.update(\"jax_enable_x64\", True)"
   ]
  },
  {
   "cell_type": "code",
   "execution_count": 107,
   "metadata": {},
   "outputs": [],
   "source": [
    "def find_1anticoherent_subspace(j, k, max_iter=1000):\n",
    "    d = int(2*j + 1)\n",
    "    X, Y, Z = sigma_x(j), sigma_y(j), sigma_z(j)\n",
    "\n",
    "    @jax.jit\n",
    "    def one_anticoherence(V):\n",
    "        R = (V[0:d*k] + 1j*V[d*k:]).reshape(k, d)\n",
    "        return (jp.linalg.norm(R @ X @ R.conj().T) + \\\n",
    "                jp.linalg.norm(R @ Y @ R.conj().T) + \\\n",
    "                jp.linalg.norm(R @ Z @ R.conj().T)).real\n",
    "\n",
    "    @jax.jit\n",
    "    def orthogonality(V):\n",
    "        R = (V[0:d*k] + 1j*V[d*k:]).reshape(k, d)\n",
    "        return jp.linalg.norm((R @ R.conj().T) - jp.eye(k)).real\n",
    "    \n",
    "    for t in range(max_iter):\n",
    "        try:\n",
    "            V = np.random.randn(2*d*k)\n",
    "            result = sc.optimize.minimize(one_anticoherence, V,\\\n",
    "                                          jac=jax.jit(jax.jacrev(one_anticoherence)),\\\n",
    "                                          tol=1e-23,\\\n",
    "                                          constraints=[{\"type\": \"eq\",\\\n",
    "                                                        \"fun\": orthogonality,\\\n",
    "                                                        \"jac\": jax.jit(jax.jacrev(orthogonality))}],\\\n",
    "                                          options={\"disp\": True,\\\n",
    "                                                   \"maxiter\": 5000},\n",
    "                                          method=\"trust-constr\")\n",
    "            R = (result.x[0:d*k] + 1j*result.x[d*k:]).reshape(k, d)\n",
    "            return R\n",
    "        except:\n",
    "            continue"
   ]
  },
  {
   "cell_type": "code",
   "execution_count": 108,
   "metadata": {},
   "outputs": [
    {
     "name": "stderr",
     "output_type": "stream",
     "text": [
      "WARNING:absl:No GPU/TPU found, falling back to CPU. (Set TF_CPP_MIN_LOG_LEVEL=0 and rerun for more info.)\n"
     ]
    },
    {
     "name": "stdout",
     "output_type": "stream",
     "text": [
      "`xtol` termination condition is satisfied.\n",
      "Number of iterations: 170, function evaluations: 237, CG iterations: 236, optimality: 2.44e+00, constraint violation: 1.39e-17, execution time: 0.18 s.\n"
     ]
    },
    {
     "name": "stderr",
     "output_type": "stream",
     "text": [
      "/Users/heyredhat/opt/anaconda3/envs/spheres/lib/python3.8/site-packages/scipy/optimize/_hessian_update_strategy.py:182: UserWarning: delta_grad == 0.0. Check if the approximated function is linear. If the function is linear better results can be obtained by defining the Hessian as zero instead of using quasi-Newton approximations.\n",
      "  warn('delta_grad == 0.0. Check if the approximated '\n"
     ]
    }
   ],
   "source": [
    "j, k = 2, 2\n",
    "R = find_1anticoherent_subspace(j, k)"
   ]
  },
  {
   "cell_type": "code",
   "execution_count": 109,
   "metadata": {},
   "outputs": [
    {
     "data": {
      "text/plain": [
       "array([[1.+0.j, 0.-0.j],\n",
       "       [0.+0.j, 1.+0.j]])"
      ]
     },
     "execution_count": 109,
     "metadata": {},
     "output_type": "execute_result"
    }
   ],
   "source": [
    "R @ R.conj().T"
   ]
  },
  {
   "cell_type": "code",
   "execution_count": 110,
   "metadata": {},
   "outputs": [
    {
     "data": {
      "text/plain": [
       "array([[ 0.+0.j, -0.+0.j],\n",
       "       [-0.+0.j,  0.+0.j]])"
      ]
     },
     "execution_count": 110,
     "metadata": {},
     "output_type": "execute_result"
    }
   ],
   "source": [
    "R @ sigma_x(j) @ R.conj().T"
   ]
  },
  {
   "cell_type": "code",
   "execution_count": 111,
   "metadata": {},
   "outputs": [
    {
     "data": {
      "text/plain": [
       "array([[-0.-0.j,  0.-0.j],\n",
       "       [ 0.+0.j,  0.+0.j]])"
      ]
     },
     "execution_count": 111,
     "metadata": {},
     "output_type": "execute_result"
    }
   ],
   "source": [
    "R @ sigma_y(j) @ R.conj().T"
   ]
  },
  {
   "cell_type": "code",
   "execution_count": 112,
   "metadata": {},
   "outputs": [
    {
     "data": {
      "text/plain": [
       "array([[ 0.+0.j,  0.+0.j],\n",
       "       [ 0.+0.j, -0.+0.j]])"
      ]
     },
     "execution_count": 112,
     "metadata": {},
     "output_type": "execute_result"
    }
   ],
   "source": [
    "R @ sigma_z(j) @ R.conj().T"
   ]
  },
  {
   "cell_type": "code",
   "execution_count": 113,
   "metadata": {},
   "outputs": [
    {
     "data": {
      "text/plain": [
       "(array([ 0.2349+0.316j ,  0.1549-0.2546j,  0.4767+0.1486j,  0.1158+0.0132j,\n",
       "        -0.4979+0.0374j,  0.0936+0.283j , -0.3001+0.2549j]),\n",
       " array([-0.-0.j,  0.+0.j, -0.-0.j]))"
      ]
     },
     "execution_count": 113,
     "metadata": {},
     "output_type": "execute_result"
    }
   ],
   "source": [
    "bd = U_2_2 @ plucker_coordinates(R)\n",
    "j3 = bd[:7]\n",
    "j1 = bd[7:]\n",
    "(j3, j1)"
   ]
  },
  {
   "cell_type": "code",
   "execution_count": 114,
   "metadata": {},
   "outputs": [
    {
     "data": {
      "text/html": [
       "<div id=\"glowscript\" class=\"glowscript\"></div>"
      ],
      "text/plain": [
       "<IPython.core.display.HTML object>"
      ]
     },
     "metadata": {},
     "output_type": "display_data"
    },
    {
     "data": {
      "application/javascript": "if (typeof Jupyter !== \"undefined\") { window.__context = { glowscript_container: $(\"#glowscript\").removeAttr(\"id\")};}else{ element.textContent = ' ';}",
      "text/plain": [
       "<IPython.core.display.Javascript object>"
      ]
     },
     "metadata": {},
     "output_type": "display_data"
    }
   ],
   "source": [
    "viz_majorana_stars(j3)"
   ]
  },
  {
   "cell_type": "markdown",
   "metadata": {},
   "source": [
    "## Identifying rotational symmetries\n",
    "\n",
    "To be continued!"
   ]
  },
  {
   "cell_type": "code",
   "execution_count": null,
   "metadata": {},
   "outputs": [],
   "source": []
  }
 ],
 "metadata": {
  "kernelspec": {
   "display_name": "Python 3",
   "language": "python",
   "name": "python3"
  },
  "language_info": {
   "codemirror_mode": {
    "name": "ipython",
    "version": 3
   },
   "file_extension": ".py",
   "mimetype": "text/x-python",
   "name": "python",
   "nbconvert_exporter": "python",
   "pygments_lexer": "ipython3",
   "version": "3.8.5"
  }
 },
 "nbformat": 4,
 "nbformat_minor": 4
}
